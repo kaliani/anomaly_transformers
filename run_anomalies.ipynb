{
 "cells": [
  {
   "cell_type": "code",
   "execution_count": 1,
   "metadata": {},
   "outputs": [],
   "source": [
    "import pandas as pd\n",
    "import numpy as np\n",
    "from tqdm import tqdm\n",
    "from joblib import Parallel, delayed\n",
    "from anomaly_predictor import AnomalyPredictor\n"
   ]
  },
  {
   "cell_type": "code",
   "execution_count": 2,
   "metadata": {},
   "outputs": [],
   "source": [
    "games_for_train = pd.read_csv(\"games_for_train.csv\")"
   ]
  },
  {
   "cell_type": "code",
   "execution_count": 3,
   "metadata": {},
   "outputs": [],
   "source": [
    "time_to_predict = \"2024-12-24 22:00:00\""
   ]
  },
  {
   "cell_type": "code",
   "execution_count": 4,
   "metadata": {},
   "outputs": [],
   "source": [
    "start_date = pd.to_datetime(time_to_predict).tz_localize('UTC') - pd.Timedelta(days=7)\n",
    "\n",
    "games_for_train[\"Date\"] = pd.to_datetime(games_for_train[\"Date\"])\n",
    "games_to_predict = games_for_train[games_for_train[\"Date\"] == time_to_predict].copy()\n",
    "\n",
    "agg_col = [\"BetsCount\", \"TurnoverInEur\", \"WinningAmountInEur\", \"GGRInEur\", \"NumberOfPlayers\"]\n",
    "\n",
    "last_week_activity = games_for_train[(games_for_train[\"Date\"] > start_date) & (games_for_train[\"Date\"] <= time_to_predict)].copy()\n",
    "last_week_games = last_week_activity[\"GameId\"].unique()\n",
    "historical_week_activity = games_for_train[(games_for_train[\"Date\"] <= time_to_predict) & (games_for_train[\"GameId\"].isin(last_week_games))].copy()"
   ]
  },
  {
   "cell_type": "code",
   "execution_count": 5,
   "metadata": {},
   "outputs": [],
   "source": [
    "def get_missing_hours_df(raw_df: pd.DataFrame, start_date: str, end_date: str, date_col: str = \"Date\") -> pd.DataFrame:\n",
    "    df = raw_df.copy()\n",
    "\n",
    "    df[date_col] = pd.to_datetime(df[date_col])\n",
    "    if df[date_col].dt.tz is None:\n",
    "        df[date_col] = df[date_col].dt.tz_localize('UTC')\n",
    "    else:\n",
    "        df[date_col] = df[date_col].dt.tz_convert('UTC')\n",
    "\n",
    "    full_range = pd.date_range(start=start_date, end=end_date, freq='1H', tz='UTC')\n",
    "\n",
    "    present_dates = df[date_col].unique()\n",
    "    missing_dates = pd.DatetimeIndex(full_range.difference(present_dates))\n",
    "\n",
    "    missing_df = pd.DataFrame({date_col: missing_dates})\n",
    "\n",
    "    for col in df.columns:\n",
    "        if col != date_col:\n",
    "            missing_df[col] = pd.NA\n",
    "\n",
    "    all_df = pd.concat([df, missing_df]).fillna(0)\n",
    "\n",
    "    return all_df\n",
    "\n",
    "\n",
    "def get_main_info(df, GameId):\n",
    "   \n",
    "    min_date = df[df[\"GameId\"] == GameId][\"Date\"].min()\n",
    "    max_date = df[df[\"GameId\"] == GameId][\"Date\"].max()\n",
    "\n",
    "    return min_date, max_date\n",
    "\n",
    "\n",
    "def get_x(df):\n",
    "    window_size = 1\n",
    "    step_size = 1\n",
    "    X = []\n",
    "    y = []\n",
    "\n",
    "    for i in range(0, len(df) - window_size + 1, step_size):\n",
    "        window = df[agg_col].iloc[i:i+window_size].values\n",
    "        X.append(window)\n",
    "\n",
    "    X = np.array(X)\n",
    "\n",
    "    return X"
   ]
  },
  {
   "cell_type": "code",
   "execution_count": 6,
   "metadata": {},
   "outputs": [
    {
     "name": "stderr",
     "output_type": "stream",
     "text": [
      " 37%|███▋      | 284/775 [07:01<16:16,  1.99s/it]"
     ]
    }
   ],
   "source": [
    "def process_game(cl):\n",
    "    general_train = get_missing_hours_df(\n",
    "        historical_week_activity.query(f\"GameId == {cl}\"),\n",
    "        get_main_info(historical_week_activity, cl)[0],\n",
    "        get_main_info(historical_week_activity, cl)[1]\n",
    "    ).sort_values(by=[\"Date\"])\n",
    "\n",
    "    X = get_x(general_train)\n",
    "\n",
    "    y_train = np.zeros(X.shape[0])\n",
    "\n",
    "    predictor = AnomalyPredictor(\n",
    "        model_path=\"checkpoints/gms_checkpoint.pth\",\n",
    "        data_path=\"dataset/gms\",\n",
    "        dataset=\"gms\",\n",
    "        data_arrays=(X, X, y_train),\n",
    "        win_size=1,\n",
    "        step=1,\n",
    "        batch_size=8192,\n",
    "        num_workers=0,\n",
    "        anomaly_ratio=0.01\n",
    "    )\n",
    "\n",
    "    results_df = predictor.predict()\n",
    "    general_train[\"prediction\"] = results_df[\"prediction\"].to_list()\n",
    "\n",
    "    return general_train\n",
    "\n",
    "results = Parallel(n_jobs=4)(\n",
    "    delayed(process_game)(cl) \n",
    "    for cl in tqdm(games_to_predict[\"GameId\"].unique())\n",
    ")\n",
    "\n",
    "big_check = pd.concat(results, ignore_index=True)\n",
    "\n",
    "\n",
    "\n",
    "def process_game(cl):\n",
    "    general_train = get_missing_hours_df(\n",
    "        historical_week_activity.query(f\"GameId == {cl}\"),\n",
    "        get_main_info(historical_week_activity, cl)[0],\n",
    "        get_main_info(historical_week_activity, cl)[1]\n",
    "    ).sort_values(by=[\"Date\"])\n",
    "\n",
    "    X = get_x(general_train)\n",
    "\n",
    "    y_train = np.zeros(X.shape[0])\n",
    "\n",
    "    predictor = AnomalyPredictor(\n",
    "        model_path=\"checkpoints/gms_checkpoint.pth\",\n",
    "        data_path=\"dataset/gms\",\n",
    "        dataset=\"gms\",\n",
    "        data_arrays=(X, X, y_train),\n",
    "        win_size=1,\n",
    "        step=1,\n",
    "        batch_size=8192,\n",
    "        num_workers=0,\n",
    "        anomaly_ratio=0.01\n",
    "    )\n",
    "\n",
    "    results_df = predictor.predict()\n",
    "    general_train[\"prediction\"] = results_df[\"prediction\"].to_list()\n",
    "\n",
    "    return general_train\n",
    "\n",
    "results = Parallel(n_jobs=2)(\n",
    "    delayed(process_game)(cl) \n",
    "    for cl in tqdm(games_to_predict[\"GameId\"].unique())\n",
    ")\n",
    "\n",
    "big_check = pd.concat(results, ignore_index=True)\n"
   ]
  }
 ],
 "metadata": {
  "kernelspec": {
   "display_name": "at-env36",
   "language": "python",
   "name": "python3"
  },
  "language_info": {
   "codemirror_mode": {
    "name": "ipython",
    "version": 3
   },
   "file_extension": ".py",
   "mimetype": "text/x-python",
   "name": "python",
   "nbconvert_exporter": "python",
   "pygments_lexer": "ipython3",
   "version": "3.6.13"
  }
 },
 "nbformat": 4,
 "nbformat_minor": 2
}
