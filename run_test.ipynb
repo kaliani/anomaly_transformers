{
 "cells": [
  {
   "cell_type": "code",
   "execution_count": 1,
   "metadata": {},
   "outputs": [],
   "source": [
    "from anomaly_predictor import AnomalyPredictor"
   ]
  },
  {
   "cell_type": "code",
   "execution_count": 2,
   "metadata": {},
   "outputs": [
    {
     "name": "stdout",
     "output_type": "stream",
     "text": [
      "GMSSegLoader initialized:\n",
      "test: (8475, 1, 5)\n",
      "train: (8475, 1, 5)\n",
      "val: (1695, 1, 5)\n",
      "test_labels: (8475,)\n",
      "GMSSegLoader initialized:\n",
      "test: (8475, 1, 5)\n",
      "train: (8475, 1, 5)\n",
      "val: (1695, 1, 5)\n",
      "test_labels: (8475,)\n",
      "GMSSegLoader initialized:\n",
      "test: (8475, 1, 5)\n",
      "train: (8475, 1, 5)\n",
      "val: (1695, 1, 5)\n",
      "test_labels: (8475,)\n"
     ]
    }
   ],
   "source": [
    "predictor = AnomalyPredictor(\n",
    "    model_path=\"checkpoints/gms_checkpoint.pth\",\n",
    "    data_path=\"dataset/gms\",\n",
    "    dataset=\"gms\",       \n",
    "    win_size=1,\n",
    "    step=100,\n",
    "    batch_size=512,\n",
    "    num_workers=4,\n",
    "    anomaly_ratio=0.01\n",
    ")"
   ]
  },
  {
   "cell_type": "code",
   "execution_count": 3,
   "metadata": {},
   "outputs": [
    {
     "name": "stderr",
     "output_type": "stream",
     "text": [
      "/home/ivan/anaconda3/envs/at-env36/lib/python3.6/site-packages/sklearn/metrics/_classification.py:1248: UndefinedMetricWarning: Precision and F-score are ill-defined and being set to 0.0 due to no predicted samples. Use `zero_division` parameter to control this behavior.\n",
      "  _warn_prf(average, modifier, msg_start, len(result))\n",
      "/home/ivan/anaconda3/envs/at-env36/lib/python3.6/site-packages/sklearn/metrics/_classification.py:1248: UndefinedMetricWarning: Recall and F-score are ill-defined and being set to 0.0 due to no true samples. Use `zero_division` parameter to control this behavior.\n",
      "  _warn_prf(average, modifier, msg_start, len(result))\n"
     ]
    }
   ],
   "source": [
    "results_df, metrics = predictor.predict()"
   ]
  },
  {
   "cell_type": "code",
   "execution_count": 4,
   "metadata": {},
   "outputs": [
    {
     "data": {
      "text/plain": [
       "(85,)"
      ]
     },
     "execution_count": 4,
     "metadata": {},
     "output_type": "execute_result"
    }
   ],
   "source": [
    "results_df[\"prediction\"].shape"
   ]
  },
  {
   "cell_type": "code",
   "execution_count": 5,
   "metadata": {},
   "outputs": [
    {
     "data": {
      "text/html": [
       "<div>\n",
       "<style scoped>\n",
       "    .dataframe tbody tr th:only-of-type {\n",
       "        vertical-align: middle;\n",
       "    }\n",
       "\n",
       "    .dataframe tbody tr th {\n",
       "        vertical-align: top;\n",
       "    }\n",
       "\n",
       "    .dataframe thead th {\n",
       "        text-align: right;\n",
       "    }\n",
       "</style>\n",
       "<table border=\"1\" class=\"dataframe\">\n",
       "  <thead>\n",
       "    <tr style=\"text-align: right;\">\n",
       "      <th></th>\n",
       "      <th>anomaly_score</th>\n",
       "      <th>prediction</th>\n",
       "      <th>ground_truth</th>\n",
       "    </tr>\n",
       "  </thead>\n",
       "  <tbody>\n",
       "    <tr>\n",
       "      <th>0</th>\n",
       "      <td>5.280013</td>\n",
       "      <td>0</td>\n",
       "      <td>0</td>\n",
       "    </tr>\n",
       "    <tr>\n",
       "      <th>1</th>\n",
       "      <td>0.000232</td>\n",
       "      <td>0</td>\n",
       "      <td>0</td>\n",
       "    </tr>\n",
       "    <tr>\n",
       "      <th>2</th>\n",
       "      <td>0.000232</td>\n",
       "      <td>0</td>\n",
       "      <td>0</td>\n",
       "    </tr>\n",
       "    <tr>\n",
       "      <th>3</th>\n",
       "      <td>0.000232</td>\n",
       "      <td>0</td>\n",
       "      <td>0</td>\n",
       "    </tr>\n",
       "    <tr>\n",
       "      <th>4</th>\n",
       "      <td>0.000232</td>\n",
       "      <td>0</td>\n",
       "      <td>0</td>\n",
       "    </tr>\n",
       "    <tr>\n",
       "      <th>...</th>\n",
       "      <td>...</td>\n",
       "      <td>...</td>\n",
       "      <td>...</td>\n",
       "    </tr>\n",
       "    <tr>\n",
       "      <th>8470</th>\n",
       "      <td>0.000235</td>\n",
       "      <td>0</td>\n",
       "      <td>0</td>\n",
       "    </tr>\n",
       "    <tr>\n",
       "      <th>8471</th>\n",
       "      <td>111.956657</td>\n",
       "      <td>0</td>\n",
       "      <td>0</td>\n",
       "    </tr>\n",
       "    <tr>\n",
       "      <th>8472</th>\n",
       "      <td>0.000235</td>\n",
       "      <td>0</td>\n",
       "      <td>0</td>\n",
       "    </tr>\n",
       "    <tr>\n",
       "      <th>8473</th>\n",
       "      <td>0.000235</td>\n",
       "      <td>0</td>\n",
       "      <td>0</td>\n",
       "    </tr>\n",
       "    <tr>\n",
       "      <th>8474</th>\n",
       "      <td>2034.711914</td>\n",
       "      <td>1</td>\n",
       "      <td>0</td>\n",
       "    </tr>\n",
       "  </tbody>\n",
       "</table>\n",
       "<p>8475 rows × 3 columns</p>\n",
       "</div>"
      ],
      "text/plain": [
       "      anomaly_score  prediction  ground_truth\n",
       "0          5.280013           0             0\n",
       "1          0.000232           0             0\n",
       "2          0.000232           0             0\n",
       "3          0.000232           0             0\n",
       "4          0.000232           0             0\n",
       "...             ...         ...           ...\n",
       "8470       0.000235           0             0\n",
       "8471     111.956657           0             0\n",
       "8472       0.000235           0             0\n",
       "8473       0.000235           0             0\n",
       "8474    2034.711914           1             0\n",
       "\n",
       "[8475 rows x 3 columns]"
      ]
     },
     "execution_count": 5,
     "metadata": {},
     "output_type": "execute_result"
    }
   ],
   "source": [
    "results_df"
   ]
  },
  {
   "cell_type": "code",
   "execution_count": 4,
   "metadata": {},
   "outputs": [
    {
     "name": "stderr",
     "output_type": "stream",
     "text": [
      "100%|██████████| 1/1 [00:13<00:00, 13.28s/it]\n"
     ]
    }
   ],
   "source": [
    "# gen_stat = pd.DataFrame()\n",
    "# all_gen = pd.DataFrame()\n",
    "# # [\"2025-03-01 07:00:00\", \"2025-03-01 08:00:00\", \"2025-03-01 09:00:00\", \"2025-03-01 10:00:00\"]\n",
    "# # [\"2025-07-01 09:00:00\"]\n",
    "\n",
    "# for dd in ['2024-12-24 22:00:00']:\n",
    "#     zx = prepare_data_for_prediction(games_for_train, dd)\n",
    "#     game_profile, historical_week_activity, games_to_predict = zx\n",
    "\n",
    "#     ch = run_anomalies(historical_week_activity, games_to_predict)\n",
    "\n",
    "#     t_statistics = ch[1]\n",
    "#     t_statistics[\"Date\"] = dd[:-6]\n",
    "\n",
    "#     gen_stat = pd.concat([t_statistics, gen_stat])\n",
    "\n",
    "#     temp_gen = ch[0][ch[0][\"Date\"] == dd[:-6]]\n",
    "#     all_gen = pd.concat([all_gen, temp_gen])"
   ]
  }
 ],
 "metadata": {
  "kernelspec": {
   "display_name": "at-env36",
   "language": "python",
   "name": "python3"
  },
  "language_info": {
   "codemirror_mode": {
    "name": "ipython",
    "version": 3
   },
   "file_extension": ".py",
   "mimetype": "text/x-python",
   "name": "python",
   "nbconvert_exporter": "python",
   "pygments_lexer": "ipython3",
   "version": "3.6.13"
  }
 },
 "nbformat": 4,
 "nbformat_minor": 2
}
